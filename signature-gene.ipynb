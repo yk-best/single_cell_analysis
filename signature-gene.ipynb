{
 "cells": [
  {
   "cell_type": "code",
   "execution_count": 1,
   "id": "b20597cb",
   "metadata": {},
   "outputs": [],
   "source": [
    "import pandas as pd"
   ]
  },
  {
   "cell_type": "code",
   "execution_count": 2,
   "id": "220f97ff",
   "metadata": {},
   "outputs": [],
   "source": [
    "file = 'SignatureDB_annotation_012422.xlsx'\n",
    "\n",
    "df = pd.read_excel(file)"
   ]
  },
  {
   "cell_type": "code",
   "execution_count": 4,
   "id": "fc73e4fb",
   "metadata": {},
   "outputs": [],
   "source": [
    "sig = df['Short signature name']\n",
    "\n",
    "gene = df['Gene symbol']"
   ]
  },
  {
   "cell_type": "code",
   "execution_count": 9,
   "id": "c9cd15c2",
   "metadata": {},
   "outputs": [],
   "source": [
    "sig_short = set(list(sig))"
   ]
  },
  {
   "cell_type": "code",
   "execution_count": 10,
   "id": "933ab048",
   "metadata": {},
   "outputs": [
    {
     "data": {
      "text/plain": [
       "63954"
      ]
     },
     "execution_count": 10,
     "metadata": {},
     "output_type": "execute_result"
    }
   ],
   "source": [
    "len(sig)"
   ]
  },
  {
   "cell_type": "code",
   "execution_count": 11,
   "id": "7d84a30e",
   "metadata": {},
   "outputs": [
    {
     "data": {
      "text/plain": [
       "434"
      ]
     },
     "execution_count": 11,
     "metadata": {},
     "output_type": "execute_result"
    }
   ],
   "source": [
    "len(sig_short)"
   ]
  },
  {
   "cell_type": "code",
   "execution_count": 13,
   "id": "ab20c497",
   "metadata": {},
   "outputs": [],
   "source": [
    "dct = {}\n",
    "\n",
    "\n",
    "for i in sig_short:\n",
    "    templist = []\n",
    "    for j in range(len(sig)):\n",
    "        if sig[j] == i:\n",
    "            templist.append(gene[j])\n",
    "            \n",
    "    dct[i] = templist\n",
    "    "
   ]
  },
  {
   "cell_type": "code",
   "execution_count": 15,
   "id": "2cb57344",
   "metadata": {},
   "outputs": [
    {
     "data": {
      "text/plain": [
       "['ACP1',\n",
       " 'BATF',\n",
       " 'BCL2',\n",
       " 'CCND2',\n",
       " 'CSNK1E',\n",
       " 'ENTPD1',\n",
       " 'FUT8',\n",
       " 'GOT2',\n",
       " 'IGHG1',\n",
       " 'IL16',\n",
       " 'IRF4',\n",
       " 'MARCKS',\n",
       " 'PIM1',\n",
       " 'PIM2',\n",
       " 'PRKCB',\n",
       " 'PTPN1',\n",
       " 'SLA',\n",
       " 'SP140',\n",
       " 'SPIB',\n",
       " 'TCF4']"
      ]
     },
     "execution_count": 15,
     "metadata": {},
     "output_type": "execute_result"
    }
   ],
   "source": [
    "dct['ABCDLBCL-1']"
   ]
  },
  {
   "cell_type": "code",
   "execution_count": 17,
   "id": "b50b874f",
   "metadata": {},
   "outputs": [],
   "source": [
    "import csv"
   ]
  },
  {
   "cell_type": "code",
   "execution_count": 19,
   "id": "a4cc7270",
   "metadata": {},
   "outputs": [],
   "source": [
    "with open('output2.csv', 'w') as output:\n",
    "    writer = csv.writer(output)\n",
    "    for key, value in dct.items():\n",
    "        writer.writerow([key, value])"
   ]
  },
  {
   "cell_type": "code",
   "execution_count": null,
   "id": "32b5aaea",
   "metadata": {},
   "outputs": [],
   "source": []
  }
 ],
 "metadata": {
  "kernelspec": {
   "display_name": "Python 3 (ipykernel)",
   "language": "python",
   "name": "python3"
  },
  "language_info": {
   "codemirror_mode": {
    "name": "ipython",
    "version": 3
   },
   "file_extension": ".py",
   "mimetype": "text/x-python",
   "name": "python",
   "nbconvert_exporter": "python",
   "pygments_lexer": "ipython3",
   "version": "3.10.11"
  }
 },
 "nbformat": 4,
 "nbformat_minor": 5
}
